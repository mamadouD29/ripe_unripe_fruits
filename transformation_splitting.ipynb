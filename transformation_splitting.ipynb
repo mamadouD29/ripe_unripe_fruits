{
 "cells": [
  {
   "cell_type": "markdown",
   "metadata": {},
   "source": [
    "## Libraries"
   ]
  },
  {
   "cell_type": "code",
   "execution_count": null,
   "metadata": {},
   "outputs": [],
   "source": [
    "import os\n",
    "import shutil\n",
    "from sklearn.model_selection import train_test_split\n",
    "import numpy as np\n",
    "import cv2 as cv\n",
    "from matplotlib import pyplot as plt"
   ]
  },
  {
   "cell_type": "markdown",
   "metadata": {},
   "source": [
    "## Create directories"
   ]
  },
  {
   "cell_type": "code",
   "execution_count": null,
   "metadata": {},
   "outputs": [],
   "source": [
    "dataset_path = \"./Datasets\"\n",
    "output_path = \"./split_dataset\"\n",
    "\n",
    "# for split in [\"train\", \"val\", \"test\"]:\n",
    "#     os.makedirs(os.path.join(output_path, split), exist_ok=True)"
   ]
  },
  {
   "cell_type": "markdown",
   "metadata": {},
   "source": [
    "## Splitting"
   ]
  },
  {
   "cell_type": "markdown",
   "metadata": {},
   "source": [
    "### Train-Test-Validation Split Ratio"
   ]
  },
  {
   "cell_type": "code",
   "execution_count": null,
   "metadata": {},
   "outputs": [],
   "source": [
    "train_ratio = 0.7\n",
    "val_ratio = 0.2\n",
    "test_ratio = 0.1"
   ]
  },
  {
   "cell_type": "markdown",
   "metadata": {},
   "source": [
    "### Path Directories"
   ]
  },
  {
   "cell_type": "code",
   "execution_count": null,
   "metadata": {},
   "outputs": [],
   "source": [
    "split_dataset_path = \"split_dataset\" \n",
    "\n",
    "# Define paths for train, val, and test datasets inside `split_dataset`\n",
    "train_path = os.path.join(split_dataset_path, \"train\")\n",
    "val_path = os.path.join(split_dataset_path, \"val\")\n",
    "test_path = os.path.join(split_dataset_path, \"test\")\n",
    "\n",
    "# create the directories if no exists\n",
    "\n",
    "os.makedirs(split_dataset_path, exist_ok=True)\n",
    "os.makedirs(train_path, exist_ok=True)\n",
    "os.makedirs(test_path, exist_ok=True)\n",
    "os.makedirs(val_path, exist_ok=True)"
   ]
  },
  {
   "cell_type": "code",
   "execution_count": null,
   "metadata": {},
   "outputs": [],
   "source": [
    "# Loop through each category (e.g., fruit types) and split\n",
    "for category in os.listdir(dataset_path):\n",
    "    category_path = os.path.join(dataset_path, category)\n",
    "    \n",
    "    if not os.path.isdir(category_path):\n",
    "        continue\n",
    "    \n",
    "    # Create subdirectories for train, val, and test inside `split_dataset`\n",
    "    train_category_path = os.path.join(train_path, category)\n",
    "    val_category_path = os.path.join(val_path, category)\n",
    "    test_category_path = os.path.join(test_path, category)\n",
    "    \n",
    "    os.makedirs(train_category_path, exist_ok=True)\n",
    "    os.makedirs(val_category_path, exist_ok=True)\n",
    "    os.makedirs(test_category_path, exist_ok=True)\n",
    "\n",
    "    # Loop through each subcategory (e.g., ripe, unripe)\n",
    "    for subcategory in os.listdir(category_path):\n",
    "        subcategory_path = os.path.join(category_path, subcategory)\n",
    "\n",
    "        if not os.path.isdir(subcategory_path):\n",
    "            continue\n",
    "\n",
    "        # Create subcategory directories in train, val, and test folders\n",
    "        train_subcategory_path = os.path.join(train_category_path, subcategory)\n",
    "        val_subcategory_path = os.path.join(val_category_path, subcategory)\n",
    "        test_subcategory_path = os.path.join(test_category_path, subcategory)\n",
    "\n",
    "        os.makedirs(train_subcategory_path, exist_ok=True)\n",
    "        os.makedirs(val_subcategory_path, exist_ok=True)\n",
    "        os.makedirs(test_subcategory_path, exist_ok=True)\n",
    "\n",
    "        # Get all images in the subcategory\n",
    "        image_list = [os.path.join(subcategory_path, img) for img in os.listdir(subcategory_path) if img.endswith(('.png', '.jpg', '.jpeg'))]\n",
    "        \n",
    "        # Split the image list into train+validation and test sets\n",
    "        train_val_images, test_images = train_test_split(image_list, test_size=0.1, random_state=42)  # 10% for test\n",
    "        \n",
    "        # Split the train+validation set into train and validation sets\n",
    "        train_images, val_images = train_test_split(train_val_images, test_size=0.22, random_state=42)  # 20% for validation (from the remaining 90%)\n",
    "\n",
    "        # Copy images to their respective directories\n",
    "        for image in train_images:\n",
    "            shutil.copy(image, os.path.join(train_subcategory_path, os.path.basename(image)))\n",
    "        \n",
    "        for image in val_images:\n",
    "            shutil.copy(image, os.path.join(val_subcategory_path, os.path.basename(image)))\n",
    "        \n",
    "        for image in test_images:\n",
    "            shutil.copy(image, os.path.join(test_subcategory_path, os.path.basename(image)))\n",
    "\n",
    "print(\"Dataset split complete. Files saved inside 'split_dataset' directory.\")"
   ]
  },
  {
   "cell_type": "markdown",
   "metadata": {},
   "source": [
    "## Pre-processing"
   ]
  },
  {
   "cell_type": "markdown",
   "metadata": {},
   "source": [
    "### Resizing\n",
    "\n",
    "Images resized (224x224)"
   ]
  },
  {
   "cell_type": "code",
   "execution_count": null,
   "metadata": {},
   "outputs": [],
   "source": [
    "# Edit the target size accordingly\n",
    "\n",
    "TARGET_SIZE = (224, 224)\n",
    "\n",
    "def resize_imgs(img, out_path):\n",
    "    # Resize the image to the target size\n",
    "    img_resized = cv.resize(img, TARGET_SIZE)\n",
    "    # Save the resized image\n",
    "    cv.imwrite(out_path, img_resized)"
   ]
  },
  {
   "cell_type": "markdown",
   "metadata": {},
   "source": [
    "#### Masking (cv2grabcut), Hue & Saturation extraction, Normalization\n",
    "\n",
    "Our images have complex backgroung (diverse bg). We are going to use a powerful tool to extract the forground. \n",
    "\n",
    "We convert BGR to HSV, extract Hue (ripeness) and Saturation/Value (for fruit differentiation).\n"
   ]
  },
  {
   "cell_type": "code",
   "execution_count": null,
   "metadata": {},
   "outputs": [],
   "source": [
    "\n",
    "def apply_grabcut(image_path, output_path):\n",
    "    # Load the image\n",
    "    img = cv.imread(image_path)\n",
    "    assert img is not None, \"File could not be read, check with os.path.exists()\"\n",
    "    \n",
    "    # Create an initial mask\n",
    "    mask = np.zeros(img.shape[:2], np.uint8)\n",
    "\n",
    "    # Define background and foreground models\n",
    "    bgdModel = np.zeros((1, 65), np.float64)\n",
    "    fgdModel = np.zeros((1, 65), np.float64)\n",
    "\n",
    "    # Define the rectangle around the object (adjust these values as needed)\n",
    "    rect = (5, 5, img.shape[1] - 5, img.shape[0] - 5)  \n",
    "\n",
    "    # Apply GrabCut algorithm\n",
    "    cv.grabCut(img, mask, rect, bgdModel, fgdModel, 5, cv.GC_INIT_WITH_RECT)\n",
    "\n",
    "    # Modify mask to create a binary mask (0 = background, 1 = foreground)\n",
    "    mask2 = np.where((mask == 2) | (mask == 0), 0, 1).astype('uint8')\n",
    "\n",
    "    # Apply the mask to the image to extract the foreground\n",
    "    result = img * mask2[:, :, np.newaxis]\n",
    "\n",
    "    # Change color \n",
    "    result_rgb = cv.cvtColor(result, cv.COLOR_BGR2RGB)\n",
    "\n",
    "    # Resize the result (no need to resize again if it's already resized)\n",
    "    resize_imgs(result, output_path)\n",
    "\n",
    "    # Hue, Saturation, Value extraction and Normalization \n",
    "    hue = hsv[:, :, 0] / 180.0        # Normalize Hue\n",
    "    saturation = hsv[:, :, 1] / 255.0 # Normalize Saturation\n",
    "    value = hsv[:, :, 2] / 255.0      # Normalize Value\n",
    "\n",
    "    hsv_normalized = np.stack((hue, saturation, value), axis=-1) # Stacking as 3 channels\n",
    "\n",
    "    \n",
    "\n",
    "    # Plot the result (masked image)\n",
    "    #plt.imshow(result_rgb)\n",
    "    #plt.colorbar()\n",
    "    #plt.show()\n",
    "\n",
    " "
   ]
  },
  {
   "cell_type": "code",
   "execution_count": 7,
   "metadata": {},
   "outputs": [
    {
     "ename": "KeyboardInterrupt",
     "evalue": "",
     "output_type": "error",
     "traceback": [
      "\u001b[1;31m---------------------------------------------------------------------------\u001b[0m",
      "\u001b[1;31mKeyboardInterrupt\u001b[0m                         Traceback (most recent call last)",
      "Cell \u001b[1;32mIn[7], line 26\u001b[0m\n\u001b[0;32m     23\u001b[0m             output_path \u001b[38;5;241m=\u001b[39m os\u001b[38;5;241m.\u001b[39mpath\u001b[38;5;241m.\u001b[39mjoin(new_subcategory_path, image_name)\n\u001b[0;32m     25\u001b[0m             \u001b[38;5;28;01mif\u001b[39;00m image_name\u001b[38;5;241m.\u001b[39mendswith((\u001b[38;5;124m'\u001b[39m\u001b[38;5;124m.png\u001b[39m\u001b[38;5;124m'\u001b[39m, \u001b[38;5;124m'\u001b[39m\u001b[38;5;124m.jpg\u001b[39m\u001b[38;5;124m'\u001b[39m, \u001b[38;5;124m'\u001b[39m\u001b[38;5;124m.jpeg\u001b[39m\u001b[38;5;124m'\u001b[39m)):\n\u001b[1;32m---> 26\u001b[0m                 \u001b[43mapply_grabcut\u001b[49m\u001b[43m(\u001b[49m\u001b[43mimage_path\u001b[49m\u001b[43m,\u001b[49m\u001b[43m \u001b[49m\u001b[43moutput_path\u001b[49m\u001b[43m)\u001b[49m\n\u001b[0;32m     28\u001b[0m \u001b[38;5;28mprint\u001b[39m(\u001b[38;5;124m\"\u001b[39m\u001b[38;5;124mMasking and resizing complete. Images saved in \u001b[39m\u001b[38;5;124m'\u001b[39m\u001b[38;5;124mmasked_resized_dataset/\u001b[39m\u001b[38;5;124m'\u001b[39m\u001b[38;5;124m.\u001b[39m\u001b[38;5;124m\"\u001b[39m)\n",
      "Cell \u001b[1;32mIn[6], line 17\u001b[0m, in \u001b[0;36mapply_grabcut\u001b[1;34m(image_path, output_path)\u001b[0m\n\u001b[0;32m     14\u001b[0m rect \u001b[38;5;241m=\u001b[39m (\u001b[38;5;241m5\u001b[39m, \u001b[38;5;241m5\u001b[39m, img\u001b[38;5;241m.\u001b[39mshape[\u001b[38;5;241m1\u001b[39m] \u001b[38;5;241m-\u001b[39m \u001b[38;5;241m5\u001b[39m, img\u001b[38;5;241m.\u001b[39mshape[\u001b[38;5;241m0\u001b[39m] \u001b[38;5;241m-\u001b[39m \u001b[38;5;241m5\u001b[39m)  \n\u001b[0;32m     16\u001b[0m \u001b[38;5;66;03m# Apply GrabCut algorithm\u001b[39;00m\n\u001b[1;32m---> 17\u001b[0m \u001b[43mcv\u001b[49m\u001b[38;5;241;43m.\u001b[39;49m\u001b[43mgrabCut\u001b[49m\u001b[43m(\u001b[49m\u001b[43mimg\u001b[49m\u001b[43m,\u001b[49m\u001b[43m \u001b[49m\u001b[43mmask\u001b[49m\u001b[43m,\u001b[49m\u001b[43m \u001b[49m\u001b[43mrect\u001b[49m\u001b[43m,\u001b[49m\u001b[43m \u001b[49m\u001b[43mbgdModel\u001b[49m\u001b[43m,\u001b[49m\u001b[43m \u001b[49m\u001b[43mfgdModel\u001b[49m\u001b[43m,\u001b[49m\u001b[43m \u001b[49m\u001b[38;5;241;43m5\u001b[39;49m\u001b[43m,\u001b[49m\u001b[43m \u001b[49m\u001b[43mcv\u001b[49m\u001b[38;5;241;43m.\u001b[39;49m\u001b[43mGC_INIT_WITH_RECT\u001b[49m\u001b[43m)\u001b[49m\n\u001b[0;32m     19\u001b[0m \u001b[38;5;66;03m# Modify mask to create a binary mask (0 = background, 1 = foreground)\u001b[39;00m\n\u001b[0;32m     20\u001b[0m mask2 \u001b[38;5;241m=\u001b[39m np\u001b[38;5;241m.\u001b[39mwhere((mask \u001b[38;5;241m==\u001b[39m \u001b[38;5;241m2\u001b[39m) \u001b[38;5;241m|\u001b[39m (mask \u001b[38;5;241m==\u001b[39m \u001b[38;5;241m0\u001b[39m), \u001b[38;5;241m0\u001b[39m, \u001b[38;5;241m1\u001b[39m)\u001b[38;5;241m.\u001b[39mastype(\u001b[38;5;124m'\u001b[39m\u001b[38;5;124muint8\u001b[39m\u001b[38;5;124m'\u001b[39m)\n",
      "\u001b[1;31mKeyboardInterrupt\u001b[0m: "
     ]
    }
   ],
   "source": [
    "   \n",
    "resized_dataset_path = \"masked_resized_dataset\"  # Output directory for processed images\n",
    "\n",
    "# Loop through each category and subcategory in the dataset\n",
    "for category in os.listdir(dataset_path):\n",
    "    category_path = os.path.join(dataset_path, category)\n",
    "    \n",
    "    if not os.path.isdir(category_path):\n",
    "        continue\n",
    "\n",
    "    for subcategory in os.listdir(category_path):\n",
    "        subcategory_path = os.path.join(category_path, subcategory)\n",
    "\n",
    "        if not os.path.isdir(subcategory_path):\n",
    "            continue\n",
    "\n",
    "        # Create a new directory for masked and resized images\n",
    "        new_subcategory_path = os.path.join(resized_dataset_path, category, subcategory)\n",
    "        os.makedirs(new_subcategory_path, exist_ok=True)\n",
    "\n",
    "        # Process each image in the subcategory folder\n",
    "        for image_name in os.listdir(subcategory_path):\n",
    "            image_path = os.path.join(subcategory_path, image_name)\n",
    "            output_path = os.path.join(new_subcategory_path, image_name)\n",
    "\n",
    "            if image_name.endswith(('.png', '.jpg', '.jpeg')):\n",
    "                apply_grabcut(image_path, output_path)\n",
    "\n",
    "print(\"Masking and resizing complete. Images saved in 'masked_resized_dataset/'.\")"
   ]
  }
 ],
 "metadata": {
  "kernelspec": {
   "display_name": "Python 3",
   "language": "python",
   "name": "python3"
  },
  "language_info": {
   "codemirror_mode": {
    "name": "ipython",
    "version": 3
   },
   "file_extension": ".py",
   "mimetype": "text/x-python",
   "name": "python",
   "nbconvert_exporter": "python",
   "pygments_lexer": "ipython3",
   "version": "3.13.2"
  }
 },
 "nbformat": 4,
 "nbformat_minor": 2
}
