{
 "cells": [
  {
   "cell_type": "markdown",
   "metadata": {},
   "source": [
    "# Image Generator\n",
    "\n",
    "The objective of this file is o generate images from original. It will resze, rotate, flip horizontally, add gaussain noise and random brightness to generate those images and store them in folders labeled."
   ]
  },
  {
   "cell_type": "markdown",
   "metadata": {},
   "source": [
    "#### Install libraries\n",
    "\n",
    "                pip install opencv-python numpy albumentations scikit-learn\n"
   ]
  },
  {
   "cell_type": "markdown",
   "metadata": {},
   "source": [
    "#### Import libraries"
   ]
  },
  {
   "cell_type": "code",
   "execution_count": null,
   "metadata": {},
   "outputs": [],
   "source": [
    "import os\n",
    "import cv2\n",
    "import numpy as np\n",
    "import albumentations as A\n",
    "from sklearn.model_selection import train_test_split\n",
    "import shutil"
   ]
  },
  {
   "cell_type": "markdown",
   "metadata": {},
   "source": [
    "#### File Path directory\n",
    "\n",
    "Create a base and an output directories.\n",
    "Initialize two arrays fruits (Banana, Mango, Rambutan, Strawberry, Tomato) and categories (Ripe, Unripe).\n"
   ]
  },
  {
   "cell_type": "code",
   "execution_count": null,
   "metadata": {},
   "outputs": [],
   "source": [
    "# File path directory \n",
    "base_dir = \"CS898 Project/Datasets\" # Directory \n",
    "output_dir = \"CS898 Project/TTS\" # Directory\n",
    "\n",
    "os.makedirs(output_dir, exist_ok=True)\n",
    "\n",
    "fruits = [\"Banana\", \"Mango\", \"Rambutan\", \"Strawberry\", \"Tomato\"]\n",
    "categories = [\"Ripe\", \"Unripe\"]\n"
   ]
  },
  {
   "cell_type": "markdown",
   "metadata": {},
   "source": [
    "#### Transformations\n",
    "\n",
    "Use the modal to appply the augmentation. "
   ]
  },
  {
   "cell_type": "code",
   "execution_count": null,
   "metadata": {},
   "outputs": [],
   "source": [
    "# Augmentation Transformations | albumentations(p = probability)\n",
    "augmentations = A.Compose([\n",
    "    A.GaussNoise(var_limit=(10, 50), p=0.5),  # Adds slight random noise\n",
    "    A.Rotate(limit=30, p=0.7),  # Rotates between -30° and 30°\n",
    "    A.HorizontalFlip(p=0.5),  # Flips image horizontally\n",
    "    A.RandomBrightnessContrast(p=0.6)  # Adjusts brightness & contrast\n",
    "])"
   ]
  },
  {
   "cell_type": "code",
   "execution_count": null,
   "metadata": {},
   "outputs": [],
   "source": [
    "# Function to augment an image\n",
    "def augment_image(image, count):\n",
    "    augmented_images = [] # Augmented images list \n",
    "    while len(augmented_images) < count:\n",
    "        augmented = augmentations(image=image)['image'] # Apply augmentation\n",
    "        augmented_images.append(augmented) # append to augmented images list \n",
    "    return augmented_images"
   ]
  },
  {
   "cell_type": "markdown",
   "metadata": {},
   "source": [
    "#### Categorize fruits\n",
    "\n",
    "Loop through each fruit and category in file path "
   ]
  },
  {
   "cell_type": "code",
   "execution_count": null,
   "metadata": {},
   "outputs": [],
   "source": [
    "for fruit in fruits:\n",
    "    for category in categories:\n",
    "        input_folder = os.path.join(base_dir, fruit, category)\n",
    "        output_folder = os.path.join(output_dir, fruit, category)\n",
    "        os.makedirs(output_folder, exist_ok=True) # Create folder if it does not exist\n",
    "\n",
    "        images = [f for f in os.listdir(input_folder) if f.endswith(('.jpg', '.png'))]\n",
    "        \n",
    "        if len(images) != 20:\n",
    "            print(f\"Error: {input_folder} only has {len(images)}\")\n",
    "            continue\n",
    "        \n",
    "        augmented_images = []\n",
    "        \n",
    "        # Load original images\n",
    "        for img_name in images:\n",
    "            img_path = os.path.join(input_folder, img_name)\n",
    "            image = cv2.imread(img_path)\n",
    "            \n",
    "            # Error-handling if image cannot load\n",
    "            if image is None:\n",
    "                print(f\"Error loading image: {img_path}\")\n",
    "                continue  # Skip corrupt/missing images\n",
    "\n",
    "            image = cv2.cvtColor(image, cv2.COLOR_BGR2RGB)  # Convert for correct color rendering\n",
    "            \n",
    "            \n",
    "            augmented_images.append(image) # Add originial image to list \n",
    "            \n",
    "            # Ensure image dont exceed 120 \n",
    "            augmented_images.extend(augment_image(image, count=5 if len(augmented_images) + 5 <= 120 else 120 - len(augmented_images)))\n",
    "\n",
    "        # Save augmented images (ensure 120 images total)\n",
    "        for i, img in enumerate(augmented_images[:120]):\n",
    "            output_path = os.path.join(output_folder, f\"{category}_{i+1}.jpg\") # Output path directory\n",
    "            cv2.imwrite(output_path, cv2.cvtColor(img, cv2.COLOR_RGB2BGR))  # Convert back to BGR\n",
    "\n",
    "        # Message report for fruit/category\n",
    "        print(f\"Augmented {fruit}/{category} to {len(augmented_images[:120])} images.\")"
   ]
  }
 ],
 "metadata": {
  "kernelspec": {
   "display_name": "spring25",
   "language": "python",
   "name": "python3"
  },
  "language_info": {
   "codemirror_mode": {
    "name": "ipython",
    "version": 3
   },
   "file_extension": ".py",
   "mimetype": "text/x-python",
   "name": "python",
   "nbconvert_exporter": "python",
   "pygments_lexer": "ipython3",
   "version": "3.11.11"
  }
 },
 "nbformat": 4,
 "nbformat_minor": 2
}
